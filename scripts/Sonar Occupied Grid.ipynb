{
 "cells": [
  {
   "cell_type": "markdown",
   "id": "ab649795",
   "metadata": {},
   "source": [
    "# Field Scanning\n",
    "\n",
    "### 1. Breite und Länge des Feldes ermitteln\n",
    "> + im einfachsten Fall einfach vorgeben oder Eckepunkte *ablfliegen*\n",
    "\n",
    "\n",
    "### 2. Feld in kleinere Felder (Grids) unterteilen\n",
    "> + Anzahl über die Größe des Feldes und den Abmessungen eines Grids bestimmen\n",
    "\n",
    "\n",
    "### 3. Daten in Container abspeichern\n",
    "> + i, x, y, z, s\n",
    "\n",
    "> mit i = Messpunktindex; x,y,z = Drohnenposition bei der Messung; s = Sonarmesswert"
   ]
  },
  {
   "cell_type": "code",
   "execution_count": 117,
   "id": "4b70dc1d",
   "metadata": {},
   "outputs": [],
   "source": [
    "import pandas as pd\n",
    "import numpy as np\n",
    "import random\n",
    "import matplotlib.pyplot as plt\n",
    "from matplotlib.patches import Polygon"
   ]
  },
  {
   "cell_type": "code",
   "execution_count": null,
   "id": "2a9f70ea",
   "metadata": {},
   "outputs": [],
   "source": []
  },
  {
   "cell_type": "code",
   "execution_count": null,
   "id": "bcb4592d",
   "metadata": {},
   "outputs": [],
   "source": []
  },
  {
   "cell_type": "code",
   "execution_count": 112,
   "id": "41d96008",
   "metadata": {},
   "outputs": [
    {
     "data": {
      "text/plain": [
       "array([[0., 0., 0.]])"
      ]
     },
     "execution_count": 112,
     "metadata": {},
     "output_type": "execute_result"
    }
   ],
   "source": [
    "sensor_data = np.zeros([1, 3]) # 3 --> x,y,s\n",
    "sensor_data"
   ]
  },
  {
   "cell_type": "code",
   "execution_count": 172,
   "id": "b5befa16",
   "metadata": {},
   "outputs": [
    {
     "data": {
      "text/plain": [
       "[20.25, 16.81, 1.55]"
      ]
     },
     "execution_count": 172,
     "metadata": {},
     "output_type": "execute_result"
    }
   ],
   "source": [
    "def generate_measurement(x=(0,50), y=(0,50), s=(0,3)):\n",
    "    x = round(random.uniform(x[0],x[1]), 2)\n",
    "    y = round(random.uniform(y[0],y[1]), 2)\n",
    "    s = round(random.uniform(s[0],s[1]), 2)\n",
    "    return [x,y,s]\n",
    "\n",
    "generate_measurement()"
   ]
  },
  {
   "cell_type": "code",
   "execution_count": 173,
   "id": "9939ec57",
   "metadata": {},
   "outputs": [
    {
     "name": "stdout",
     "output_type": "stream",
     "text": [
      "[[2.115e+01 3.937e+01 1.280e+00]\n",
      " [3.037e+01 2.045e+01 7.500e-01]\n",
      " [1.895e+01 4.527e+01 2.400e-01]\n",
      " [4.080e+00 3.438e+01 5.900e-01]\n",
      " [1.949e+01 2.745e+01 1.000e-02]\n",
      " [4.937e+01 3.250e+00 1.360e+00]\n",
      " [3.339e+01 3.500e+00 1.870e+00]\n",
      " [4.143e+01 3.883e+01 7.600e-01]\n",
      " [4.200e+01 3.693e+01 2.790e+00]\n",
      " [4.349e+01 1.394e+01 1.400e+00]]\n"
     ]
    }
   ],
   "source": [
    "sensor_data = np.zeros([1, 3]) # x,y,s\n",
    "for i in range(0, 10):\n",
    "    m = generate_measurement()\n",
    "    sensor_data = np.append(sensor_data, m)\n",
    "    \n",
    "sensor_data = sensor_data.reshape(-1,3)\n",
    "sensor_data = np.delete(sensor_data, 0, 0) # delete first (zeros) row \n",
    "print(sensor_data)"
   ]
  },
  {
   "cell_type": "code",
   "execution_count": null,
   "id": "ee011e13",
   "metadata": {},
   "outputs": [],
   "source": [
    "x = 20 # [m]\n",
    "y = 30 # [m]\n",
    "\n",
    "px = 1 # [m]\n",
    "py = 1 # [m]\n",
    "\n",
    "nx = int(x / px)\n",
    "ny = int(y / py)\n",
    "\n",
    "field_array = np.zeros((nx, ny))"
   ]
  },
  {
   "cell_type": "code",
   "execution_count": null,
   "id": "19116a7f",
   "metadata": {},
   "outputs": [],
   "source": []
  },
  {
   "cell_type": "code",
   "execution_count": 93,
   "id": "ec5b2e5d",
   "metadata": {},
   "outputs": [
    {
     "data": {
      "image/png": "[encoded data removed]",
      "text/plain": [
       "<Figure size 432x288 with 1 Axes>"
      ]
     },
     "metadata": {
      "needs_background": "light"
     },
     "output_type": "display_data"
    }
   ],
   "source": [
    "field_array = np.random.rand(field_array.shape[0], field_array.shape[1])\n",
    "\n",
    "plt.imshow(test)\n",
    "plt.show()"
   ]
  },
  {
   "cell_type": "code",
   "execution_count": 63,
   "id": "5bcfa89c",
   "metadata": {},
   "outputs": [
    {
     "data": {
      "image/png": "[encoded data removed]",
      "text/plain": [
       "<Figure size 432x288 with 1 Axes>"
      ]
     },
     "metadata": {
      "needs_background": "light"
     },
     "output_type": "display_data"
    }
   ],
   "source": [
    "fig, ax = plt.subplots(1,1)\n",
    "\n",
    "field_array = [(0,0), (0,l), (b,l),(b,0)] # (x,y)\n",
    "field = Polygon(field_array, facecolor=\"none\", edgecolor='green', lw=4, zorder=2) \n",
    "ax.add_patch(field)\n",
    "\n",
    "r = 10\n",
    "plt.ylim(-r,l+r)\n",
    "plt.xlim(-r,b+r)\n",
    "plt.grid()\n",
    "plt.show()"
   ]
  },
  {
   "cell_type": "code",
   "execution_count": null,
   "id": "8f1a4cbd",
   "metadata": {},
   "outputs": [],
   "source": []
  },
  {
   "cell_type": "code",
   "execution_count": null,
   "id": "e2af6d74",
   "metadata": {},
   "outputs": [],
   "source": []
  },
  {
   "cell_type": "code",
   "execution_count": null,
   "id": "7345d782",
   "metadata": {},
   "outputs": [],
   "source": []
  },
  {
   "cell_type": "code",
   "execution_count": null,
   "id": "807339e7",
   "metadata": {},
   "outputs": [],
   "source": []
  },
  {
   "cell_type": "code",
   "execution_count": null,
   "id": "09323acd",
   "metadata": {},
   "outputs": [],
   "source": []
  },
  {
   "cell_type": "code",
   "execution_count": null,
   "id": "55b692d0",
   "metadata": {},
   "outputs": [],
   "source": []
  },
  {
   "cell_type": "code",
   "execution_count": null,
   "id": "d0fff26f",
   "metadata": {},
   "outputs": [],
   "source": []
  },
  {
   "cell_type": "code",
   "execution_count": null,
   "id": "22383b98",
   "metadata": {},
   "outputs": [],
   "source": []
  },
  {
   "cell_type": "code",
   "execution_count": null,
   "id": "72859667",
   "metadata": {},
   "outputs": [],
   "source": []
  },
  {
   "cell_type": "code",
   "execution_count": null,
   "id": "352af691",
   "metadata": {},
   "outputs": [],
   "source": []
  },
  {
   "cell_type": "code",
   "execution_count": null,
   "id": "5d1fa3f2",
   "metadata": {},
   "outputs": [],
   "source": []
  },
  {
   "cell_type": "code",
   "execution_count": 64,
   "id": "17abe558",
   "metadata": {},
   "outputs": [
    {
     "data": {
      "image/png": "[encoded data removed]",
      "text/plain": [
       "<Figure size 864x576 with 1 Axes>"
      ]
     },
     "metadata": {
      "needs_background": "light"
     },
     "output_type": "display_data"
    }
   ],
   "source": [
    "fig,axes=plt.subplots(nrows=1,ncols=1,figsize=(12,8))\n",
    "\n",
    "major_ticks_top=np.linspace(-10,20,6)\n",
    "minor_ticks_top=np.linspace(-10,20,21)\n",
    "\n",
    "major_ticks_bottom=np.linspace(0,15,6)\n",
    "\n",
    "axes.set_xticks(major_ticks_top)\n",
    "axes.set_yticks(major_ticks_top)\n",
    "axes.set_xticks(minor_ticks_top,minor=True)\n",
    "axes.set_yticks(minor_ticks_top,minor=True)\n",
    "axes.set_title(\"Subplot 1\")\n",
    "axes.grid(which=\"major\",alpha=0.6)\n",
    "axes.grid(which=\"minor\",alpha=0.3)\n",
    "\n",
    "\n",
    "plt.tight_layout()\n",
    "plt.show()"
   ]
  },
  {
   "cell_type": "code",
   "execution_count": null,
   "id": "8fe347ec",
   "metadata": {},
   "outputs": [],
   "source": []
  },
  {
   "cell_type": "code",
   "execution_count": null,
   "id": "47f4a174",
   "metadata": {},
   "outputs": [],
   "source": []
  },
  {
   "cell_type": "code",
   "execution_count": null,
   "id": "9b3d0649",
   "metadata": {},
   "outputs": [],
   "source": []
  },
  {
   "cell_type": "code",
   "execution_count": null,
   "id": "e033d522",
   "metadata": {},
   "outputs": [],
   "source": [
    "from matplotlib.patches import Polygon\n",
    "import matplotlib.pyplot as plt\n",
    "\n",
    "polygon1 = Polygon([(0,5), (1,1), (3,0),])\n",
    "\n",
    "fig, ax = plt.subplots(1,1)\n",
    "\n",
    "ax.add_patch(polygon1)\n",
    "\n",
    "plt.ylim(0,6)\n",
    "plt.xlim(0,6)"
   ]
  },
  {
   "cell_type": "code",
   "execution_count": null,
   "id": "7122346f",
   "metadata": {},
   "outputs": [],
   "source": [
    "import numpy as np\n",
    "from matplotlib.patches import Circle, Wedge, Polygon\n",
    "from matplotlib.collections import PatchCollection\n",
    "import matplotlib.pyplot as plt\n",
    "\n",
    "# Fixing random state for reproducibility\n",
    "np.random.seed(19680801)\n",
    "\n",
    "\n",
    "fig, ax = plt.subplots()\n",
    "\n",
    "resolution = 50  # the number of vertices\n",
    "N = 3\n",
    "x = np.random.rand(N)\n",
    "y = np.random.rand(N)\n",
    "radii = 0.1*np.random.rand(N)\n",
    "patches = []\n",
    "for x1, y1, r in zip(x, y, radii):\n",
    "    circle = Circle((x1, y1), r)\n",
    "    patches.append(circle)\n",
    "\n",
    "x = np.random.rand(N)\n",
    "y = np.random.rand(N)\n",
    "radii = 0.1*np.random.rand(N)\n",
    "theta1 = 360.0*np.random.rand(N)\n",
    "theta2 = 360.0*np.random.rand(N)\n",
    "for x1, y1, r, t1, t2 in zip(x, y, radii, theta1, theta2):\n",
    "    wedge = Wedge((x1, y1), r, t1, t2)\n",
    "    patches.append(wedge)\n",
    "\n",
    "# Some limiting conditions on Wedge\n",
    "patches += [\n",
    "    Wedge((.3, .7), .1, 0, 360),             # Full circle\n",
    "    Wedge((.7, .8), .2, 0, 360, width=0.05),  # Full ring\n",
    "    Wedge((.8, .3), .2, 0, 45),              # Full sector\n",
    "    Wedge((.8, .3), .2, 45, 90, width=0.10),  # Ring sector\n",
    "]\n",
    "\n",
    "for i in range(N):\n",
    "    polygon = Polygon(np.random.rand(N, 2), closed=True)\n",
    "    patches.append(polygon)\n",
    "\n",
    "colors = 100 * np.random.rand(len(patches))\n",
    "p = PatchCollection(patches, alpha=0.4)\n",
    "p.set_array(colors)\n",
    "ax.add_collection(p)\n",
    "fig.colorbar(p, ax=ax)\n",
    "\n",
    "plt.show()"
   ]
  },
  {
   "cell_type": "code",
   "execution_count": 52,
   "id": "b20a3603",
   "metadata": {},
   "outputs": [
    {
     "data": {
      "image/png": "[encoded data removed]",
      "text/plain": [
       "<Figure size 576x432 with 1 Axes>"
      ]
     },
     "metadata": {
      "needs_background": "light"
     },
     "output_type": "display_data"
    }
   ],
   "source": [
    "import numpy as np\n",
    "import matplotlib.pyplot as plt \n",
    "\n",
    "fig,axes=plt.subplots(nrows=1,ncols=1,figsize=(8,6))\n",
    "\n",
    "major_ticks_top=np.linspace(0,20,6)\n",
    "minor_ticks_top=np.linspace(0,20,21)\n",
    "\n",
    "major_ticks_bottom=np.linspace(0,15,6)\n",
    "\n",
    "axes.set_xticks(major_ticks_top)\n",
    "axes.set_yticks(major_ticks_top)\n",
    "axes.set_xticks(minor_ticks_top,minor=True)\n",
    "axes.set_yticks(minor_ticks_top,minor=True)\n",
    "axes.set_title(\"Subplot 1\")\n",
    "axes.grid(which=\"major\",alpha=0.6)\n",
    "axes.grid(which=\"minor\",alpha=0.3)\n",
    "\n",
    "\n",
    "plt.tight_layout()\n",
    "plt.show()"
   ]
  },
  {
   "cell_type": "code",
   "execution_count": 50,
   "id": "c7f1cea0",
   "metadata": {},
   "outputs": [
    {
     "data": {
      "image/png": "[encoded data removed]",
      "text/plain": [
       "<Figure size 576x432 with 2 Axes>"
      ]
     },
     "metadata": {
      "needs_background": "light"
     },
     "output_type": "display_data"
    }
   ],
   "source": [
    "import numpy as np\n",
    "import matplotlib.pyplot as plt \n",
    "\n",
    "fig,axes=plt.subplots(nrows=2,ncols=1,figsize=(8,6))\n",
    "\n",
    "major_ticks_top=np.linspace(0,20,6)\n",
    "minor_ticks_top=np.linspace(0,20,21)\n",
    "\n",
    "major_ticks_bottom=np.linspace(0,15,6)\n",
    "\n",
    "axes[0].set_xticks(major_ticks_top)\n",
    "axes[0].set_yticks(major_ticks_top)\n",
    "axes[0].set_xticks(minor_ticks_top,minor=True)\n",
    "axes[0].set_yticks(minor_ticks_top,minor=True)\n",
    "axes[0].set_title(\"Subplot 1\")\n",
    "axes[0].grid(which=\"major\",alpha=0.6)\n",
    "axes[0].grid(which=\"minor\",alpha=0.3)\n",
    "\n",
    "axes[1].set_xticks(major_ticks_bottom)\n",
    "axes[1].set_yticks(major_ticks_bottom)\n",
    "axes[1].set_title(\"Subplot 2\")\n",
    "axes[1].grid()\n",
    "\n",
    "plt.tight_layout()\n",
    "plt.show()"
   ]
  },
  {
   "cell_type": "code",
   "execution_count": 87,
   "id": "34f5cb6f",
   "metadata": {},
   "outputs": [
    {
     "data": {
      "image/png": "[encoded data removed]",
      "text/plain": [
       "<Figure size 432x432 with 1 Axes>"
      ]
     },
     "metadata": {
      "needs_background": "light"
     },
     "output_type": "display_data"
    }
   ],
   "source": [
    "from matplotlib import pyplot as plt\n",
    "from matplotlib import colors\n",
    "\n",
    "data = [\n",
    "    [0,0,0,0,0,1,1,1,1,0],\n",
    "    [0,0,0,0,0,1,0,0,1,0],\n",
    "    [0,0,1,0,1,0,1,1,0,0],\n",
    "    [0,0,1,0,0,1,1,0,1,0],\n",
    "    [0,0,1,0,1,0,0,1,1,0],\n",
    "    [1,0,0,1,0,1,0,0,1,0],\n",
    "    [0,1,0,0,0,1,1,1,1,1],\n",
    "    [0,1,0,0,0,0,1,1,1,1],\n",
    "    [1,0,0,0,1,1,1,0,1,0],\n",
    "    [1,1,1,1,0,0,0,1,1,0]\n",
    "]\n",
    "\n",
    "cmap = colors.ListedColormap(['Blue','red'])\n",
    "plt.figure(figsize=(6,6))\n",
    "plt.pcolor(data[::-1],cmap=cmap,edgecolors='k', linewidths=3)\n",
    "plt.show()"
   ]
  },
  {
   "cell_type": "code",
   "execution_count": 92,
   "id": "a79e8f91",
   "metadata": {},
   "outputs": [
    {
     "data": {
      "image/png": "[encoded data removed]",
      "text/plain": [
       "<Figure size 432x432 with 1 Axes>"
      ]
     },
     "metadata": {
      "needs_background": "light"
     },
     "output_type": "display_data"
    }
   ],
   "source": [
    "cmap = colors.ListedColormap(['Green','Yellow'])\n",
    "plt.figure(figsize=(6,6))\n",
    "plt.pcolor(data[::-1],cmap=cmap,edgecolors='k', linewidths=2)\n",
    "plt.xticks(np.arange(0,11,step=1))\n",
    "plt.yticks(np.arange(0.5,10.5,step=1))\n",
    "plt.show()"
   ]
  },
  {
   "cell_type": "code",
   "execution_count": null,
   "id": "eb644823",
   "metadata": {},
   "outputs": [],
   "source": []
  }
 ],
 "metadata": {
  "kernelspec": {
   "display_name": "Python 3",
   "language": "python",
   "name": "python3"
  },
  "language_info": {
   "codemirror_mode": {
    "name": "ipython",
    "version": 3
   },
   "file_extension": ".py",
   "mimetype": "text/x-python",
   "name": "python",
   "nbconvert_exporter": "python",
   "pygments_lexer": "ipython3",
   "version": "3.8.8"
  }
 },
 "nbformat": 4,
 "nbformat_minor": 5
}
